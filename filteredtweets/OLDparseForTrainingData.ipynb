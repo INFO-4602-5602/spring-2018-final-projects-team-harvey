{
 "cells": [
  {
   "cell_type": "code",
   "execution_count": null,
   "metadata": {
    "collapsed": true
   },
   "outputs": [],
   "source": [
    "import csv\n",
    "\n",
    "results = []\n",
    "with open(\"harvey2.csv\", encoding='mac_roman') as csvfile:\n",
    "    reader = csv.reader(csvfile) # change contents to floats\n",
    "    for row in reader: # each row is a list\n",
    "        results.append(row)"
   ]
  },
  {
   "cell_type": "code",
   "execution_count": null,
   "metadata": {},
   "outputs": [],
   "source": [
    "# newResults = []\n",
    "for n,row in enumerate(results):\n",
    "    print(row[3])\n",
    "#     newResults.append({\"index\": i[0], \"id\": i[1], \"date\":  i[2], \"text\": i[3], \"url\": i[4], \"location\": i[5]})\n",
    "#     newResults.append({\"index\": i[0]})\n",
    "# print(newResults)"
   ]
  },
  {
   "cell_type": "code",
   "execution_count": null,
   "metadata": {
    "collapsed": true
   },
   "outputs": [],
   "source": []
  }
 ],
 "metadata": {
  "kernelspec": {
   "display_name": "Python 3",
   "language": "python",
   "name": "python3"
  }
 },
 "nbformat": 4,
 "nbformat_minor": 2
}
